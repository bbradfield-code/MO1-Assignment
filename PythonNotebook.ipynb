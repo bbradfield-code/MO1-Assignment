{
 "cells": [
  {
   "cell_type": "code",
   "execution_count": null,
   "id": "b4fc720d-b23f-4e56-9f87-f5e972f67667",
   "metadata": {},
   "outputs": [],
   "source": [
    "seconds_in_a_minute = 60\n",
    "minutes_in_an_hour = 60\n",
    "seconds_in_an_hour = seconds_in_a_minute * minutes_in_an_hour\n",
    "print(seconds_in_an_hour)\n",
    "\n",
    "seconds_per_hour = seconds_in_an_hour\n",
    "print(seconds_per_hour)\n",
    "\n",
    "hours_in_a_day = 24\n",
    "seconds_in_a_day = seconds_per_hour * hours_in_a_day\n",
    "print(seconds_in_a_day)\n",
    "\n",
    "seconds_per_day = seconds_in_a_day\n",
    "print(seconds_per_day)\n",
    "\n",
    "floating_point_division = seconds_per_day / seconds_per_hour\n",
    "print(floating_point_division)\n",
    "\n",
    "integer_division = seconds_per_day // seconds_per_hour\n",
    "print(integer_division)\n"
   ]
  }
 ],
 "metadata": {
  "kernelspec": {
   "display_name": "Python 3 (ipykernel)",
   "language": "python",
   "name": "python3"
  },
  "language_info": {
   "codemirror_mode": {
    "name": "ipython",
    "version": 3
   },
   "file_extension": ".py",
   "mimetype": "text/x-python",
   "name": "python",
   "nbconvert_exporter": "python",
   "pygments_lexer": "ipython3",
   "version": "3.11.7"
  }
 },
 "nbformat": 4,
 "nbformat_minor": 5
}
